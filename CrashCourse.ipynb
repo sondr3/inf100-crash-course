{
 "cells": [
  {
   "cell_type": "markdown",
   "id": "34474009-4c5f-47ed-87ea-d8057119c4b5",
   "metadata": {
    "slideshow": {
     "slide_type": "slide"
    },
    "tags": []
   },
   "source": [
    "# Introduksjon"
   ]
  },
  {
   "cell_type": "markdown",
   "id": "6480c639-8595-46af-acdc-012ddf0a26de",
   "metadata": {
    "slideshow": {
     "slide_type": "notes"
    },
    "tags": []
   },
   "source": [
    "-   Kræsjkurset er delt opp i tre seksjoner\n",
    "    1.  Grunnleggende Python\n",
    "    2.  Mer avanserte konsepter, iterasjon, scope (avansert i kaninører)\n",
    "    3.  Kortere seksjon på problemløsing, tips og triks til eksamen\n",
    "-   Tar pause etter hver seksjon, prøver å følge hvordan undervisning\n",
    "    fungerer på UiB\n",
    "-   Anbefaler å skrive notater, mye som vi skal gå gjennom på relativt\n",
    "    kort tid"
   ]
  },
  {
   "cell_type": "markdown",
   "id": "074418ec-ac03-44e1-a48d-51784e5ac9ff",
   "metadata": {
    "slideshow": {
     "slide_type": "subslide"
    },
    "tags": []
   },
   "source": [
    "## Introduksjon\n",
    "\n",
    "``` text\n",
    "<Sonium> someone speak python here?\n",
    "<lucky> HHHHHSSSSSHSSS\n",
    "<lucky> SSSSS\n",
    "<Sonium> the programming language\n",
    "```"
   ]
  },
  {
   "cell_type": "markdown",
   "id": "a6a3d8e3-a843-4273-840e-4cf1fa85440d",
   "metadata": {
    "slideshow": {
     "slide_type": "slide"
    },
    "tags": []
   },
   "source": [
    "# Grunnleggende"
   ]
  },
  {
   "cell_type": "markdown",
   "id": "da7d805d-7ecd-49f3-9f5a-3d7ca3b42daa",
   "metadata": {
    "slideshow": {
     "slide_type": "notes"
    },
    "tags": []
   },
   "source": [
    "-   Kommer til å gå gjennom:\n",
    "    -   typer\n",
    "    -   Datastrukturer\n",
    "    -   Variabler\n",
    "    -   Funksjoner og metoder"
   ]
  },
  {
   "cell_type": "markdown",
   "id": "22de07fa-e31a-4eb3-beee-981c9bb2cbf7",
   "metadata": {
    "slideshow": {
     "slide_type": "subslide"
    },
    "tags": []
   },
   "source": [
    "## Typer\n",
    "\n",
    "1.  `int`\n",
    "2.  `float`\n",
    "3.  `bool`\n",
    "4.  `str`\n",
    "5.  `bytes`"
   ]
  },
  {
   "cell_type": "markdown",
   "id": "b7492fce-a7a6-4491-a58f-79134d37cf6e",
   "metadata": {
    "slideshow": {
     "slide_type": "slide"
    },
    "tags": []
   },
   "source": [
    "## `int`\n",
    "\n",
    "-   Ubegrenset presisjon\n",
    "-   +,−,×,/\n",
    "-   `abs(x)`\n",
    "-   `int(x)`\n",
    "-   `pow(x, y) == x ** y`"
   ]
  },
  {
   "cell_type": "markdown",
   "id": "f3e8e463-e08d-49d9-905d-002540e48bc0",
   "metadata": {
    "slideshow": {
     "slide_type": "notes"
    },
    "tags": []
   },
   "source": [
    "-   Fordi en integer har ubegrenset presisjon finnes det ingen\n",
    "    `sys.maxint` i Python 3, kan bruke `sys.maxsize`, men skal aldri\n",
    "    være nødvendig\n",
    "-   `abs` returnerer absoluttverdien av et tall\n",
    "-   `int(x)` konverterer til en integer, fjerner alt etter kommaet\n",
    "-   Konvertering mellom tall konverterer det smalleste, en `int` blir\n",
    "    til en `float` når man gjør en operasjon mellom dem\n",
    "\n",
    "## `int` eksempler"
   ]
  },
  {
   "cell_type": "code",
   "execution_count": 1,
   "id": "0e02565b",
   "metadata": {},
   "outputs": [
    {
     "name": "stdout",
     "output_type": "stream",
     "text": [
      "12\n",
      "13\n",
      "12.7\n"
     ]
    }
   ],
   "source": [
    "print(int(12.68))\n",
    "print(round(12.68))\n",
    "print(round(12.68, 1))"
   ]
  },
  {
   "cell_type": "markdown",
   "id": "62b75612",
   "metadata": {},
   "source": [
    "``` example\n",
    "12\n",
    "13\n",
    "12.7\n",
    "```\n",
    "\n",
    "## `float`\n",
    "\n",
    "-   Flyttall\n",
    "-   Presisjon og representasjon forskjellig fra PC til PC\n",
    "-   Ikke alle tall kan representeres i base 2\n",
    "\n",
    "## `float` eksempler"
   ]
  },
  {
   "cell_type": "code",
   "execution_count": 2,
   "id": "fab19503",
   "metadata": {},
   "outputs": [
    {
     "name": "stdout",
     "output_type": "stream",
     "text": [
      "0.30000000000000004\n",
      "0.5\n",
      "0.1\n",
      "False\n"
     ]
    }
   ],
   "source": [
    "print(f\"{0.1 + 0.2}\")\n",
    "print(f\"{0.1 + 0.4}\")\n",
    "print(f\"{1/10}\")\n",
    "print(f\"{0.1 + 0.1 + 0.1 == 0.3}\")"
   ]
  },
  {
   "cell_type": "markdown",
   "id": "1004bc76",
   "metadata": {},
   "source": [
    "``` example\n",
    "0.30000000000000004\n",
    "0.5\n",
    "0.1\n",
    "0.2\n",
    "False\n",
    "```\n",
    "\n",
    "### Notater <span class=\"tag\" tag-name=\"B_noteNH\"><span class=\"smallcaps\">B_noteNH</span></span>\n",
    "\n",
    "-   Her kan man bruke `decimal` eller `fraction` om nøyaktighet er\n",
    "    veldig viktig\n",
    "-   Kan også bruke `round()`, men det er ikke nøyaktig\n",
    "\n",
    "## `bool`\n",
    "\n",
    "-   Sannhetsverdier\n",
    "-   `True` eller `False`\n",
    "-   `None, 0, 0.0, 0j, '', (), [], {} == False`\n",
    "-   `1, 1.0, 'x' == True`\n",
    "\n",
    "## `str`\n",
    "\n",
    "-   Strenger\n",
    "-   \"Liste\" av karakterer\n",
    "\n",
    "## `str` eksempler"
   ]
  },
  {
   "cell_type": "code",
   "execution_count": 3,
   "id": "1969553c",
   "metadata": {},
   "outputs": [
    {
     "name": "stdout",
     "output_type": "stream",
     "text": [
      "fluss\n",
      "fluß\n"
     ]
    }
   ],
   "source": [
    "print(\"Fluß\".casefold())\n",
    "print(\"Fluß\".lower())"
   ]
  },
  {
   "cell_type": "markdown",
   "id": "e06cae4c",
   "metadata": {},
   "source": [
    "``` example\n",
    "fluss\n",
    "fluß\n",
    "```\n",
    "\n",
    "## `str` eksempler"
   ]
  },
  {
   "cell_type": "code",
   "execution_count": 4,
   "id": "aad3b362",
   "metadata": {},
   "outputs": [
    {
     "name": "stdout",
     "output_type": "stream",
     "text": [
      "hei     \n",
      "     hei\n",
      "hei\n"
     ]
    }
   ],
   "source": [
    "print(\"     hei     \".lstrip())\n",
    "print(\"     hei     \".rstrip())\n",
    "print(\"     hei     \".strip())"
   ]
  },
  {
   "cell_type": "markdown",
   "id": "9c474289",
   "metadata": {},
   "source": [
    "``` example\n",
    "hei\n",
    "     hei\n",
    "hei\n",
    "```\n",
    "\n",
    "## `str` eksempler"
   ]
  },
  {
   "cell_type": "code",
   "execution_count": 5,
   "id": "5eeef5c2",
   "metadata": {},
   "outputs": [
    {
     "name": "stdout",
     "output_type": "stream",
     "text": [
      "INF100 eksamen\n"
     ]
    }
   ],
   "source": [
    "print(\"INF100 kræsjkurs\".replace(\"kræsjkurs\", \"eksamen\"))"
   ]
  },
  {
   "cell_type": "markdown",
   "id": "758343e6",
   "metadata": {},
   "source": [
    "``` example\n",
    "INF100 eksamen\n",
    "```\n",
    "\n",
    "## `str` eksempler"
   ]
  },
  {
   "cell_type": "code",
   "execution_count": 6,
   "id": "0743d03f",
   "metadata": {},
   "outputs": [
    {
     "name": "stdout",
     "output_type": "stream",
     "text": [
      "['INF100', 'er', 'kult']\n",
      "['1', '2', '3', '4', '5']\n"
     ]
    }
   ],
   "source": [
    "print(\"INF100 er kult\".split())\n",
    "print(\"1,2,3,4,5\".split(\",\"))"
   ]
  },
  {
   "cell_type": "markdown",
   "id": "8ed6e464",
   "metadata": {},
   "source": [
    "``` example\n",
    "['INF100', 'er', 'kult']\n",
    "['1', '2', '3', '4', '5']\n",
    "```\n",
    "\n",
    "## `str` eksempler"
   ]
  },
  {
   "cell_type": "code",
   "execution_count": 7,
   "id": "c018f6e8",
   "metadata": {},
   "outputs": [
    {
     "name": "stdout",
     "output_type": "stream",
     "text": [
      "INF100 er kult\n"
     ]
    }
   ],
   "source": [
    "print(\" \".join([\"INF100\", \"er\", \"kult\"]))"
   ]
  },
  {
   "cell_type": "markdown",
   "id": "132d6a45",
   "metadata": {},
   "source": [
    "``` example\n",
    "INF100 er kult\n",
    "```\n",
    "\n",
    "## `str` eksempler"
   ]
  },
  {
   "cell_type": "code",
   "execution_count": 8,
   "id": "197bbf75",
   "metadata": {},
   "outputs": [
    {
     "name": "stdout",
     "output_type": "stream",
     "text": [
      "12.67\n"
     ]
    }
   ],
   "source": [
    "print(str(12.67))"
   ]
  },
  {
   "cell_type": "markdown",
   "id": "84c18cea",
   "metadata": {},
   "source": [
    "``` example\n",
    "12.67\n",
    "```\n",
    "\n",
    "## `bytes`\n",
    "\n",
    "-   En byte er åtte bits\n",
    "-   Ikke veldig viktig for INF100\n",
    "-   En enkelt karakter er ofte en byte\n",
    "\n",
    "## Datastrukturer\n",
    "\n",
    "1.  `list`\n",
    "2.  `tuple`\n",
    "3.  `set`\n",
    "4.  `dict`\n",
    "\n",
    "## Lister\n",
    "\n",
    "-   Mest grunnleggende datastrukturen i Python\n",
    "-   Alle elementer burde være samme type\n",
    "-   En liste er en foranderlig datastruktur (mutable)\n",
    "\n",
    "### Notater <span class=\"tag\" tag-name=\"B_noteNH\"><span class=\"smallcaps\">B_noteNH</span></span>\n",
    "\n",
    "-   De bør være samme type for å unngå feil i operasjoner på listen\n",
    "    eller resultater som plutselig ikke gir mening\n",
    "\n",
    "## Listeksempler"
   ]
  },
  {
   "cell_type": "code",
   "execution_count": 9,
   "id": "7a648d80",
   "metadata": {},
   "outputs": [
    {
     "name": "stdout",
     "output_type": "stream",
     "text": [
      "[1, 2, 3, 'hei', 1.6]\n",
      "['h', 'e', 'l', 'l', 'o']\n",
      "[0, 2, 4, 6, 8]\n",
      "[0, 1, 2, 3, 4, 5, 6, 7, 8, 9]\n"
     ]
    }
   ],
   "source": [
    "print([1, 2, 3, \"hei\", 1.6])\n",
    "print([c for c in \"hello\"])\n",
    "print([x for x in range(0, 10, 2)])\n",
    "print(list(range(10)))"
   ]
  },
  {
   "cell_type": "markdown",
   "id": "bf45a51b",
   "metadata": {},
   "source": [
    "``` example\n",
    "[1, 2, 3, 'hei', 1.6]\n",
    "['h', 'e', 'l', 'l', 'o']\n",
    "[0, 2, 4, 6, 8]\n",
    "[0, 1, 2, 3, 4, 5, 6, 7, 8, 9]\n",
    "```\n",
    "\n",
    "## Listeksempler"
   ]
  },
  {
   "cell_type": "code",
   "execution_count": 10,
   "id": "0405028b",
   "metadata": {},
   "outputs": [
    {
     "name": "stdout",
     "output_type": "stream",
     "text": [
      "['a', 'b', 'c', 'd']\n",
      "['a', 'b', 'c', 'd', 'i', 1, 2, 3]\n"
     ]
    }
   ],
   "source": [
    "l = [x for x in \"abcd\"]\n",
    "print(l)\n",
    "l.append(\"i\")\n",
    "l.extend([1, 2, 3])\n",
    "print(l)"
   ]
  },
  {
   "cell_type": "markdown",
   "id": "c11a9c9c",
   "metadata": {},
   "source": [
    "``` example\n",
    "['a', 'b', 'c', 'd']\n",
    "['a', 'b', 'c', 'd', 'i', 1, 2, 3]\n",
    "```\n",
    "\n",
    "## Listeksempler"
   ]
  },
  {
   "cell_type": "code",
   "execution_count": 11,
   "id": "92084541",
   "metadata": {},
   "outputs": [
    {
     "name": "stdout",
     "output_type": "stream",
     "text": [
      "['h', 'g', 'f', 'e', 'd', 'c', 'b', 'a']\n",
      "a\n",
      "['b', 'c', 'd', 'e', 'f', 'g']\n",
      "['g', 'f', 'e', 'd', 'c', 'b']\n"
     ]
    },
    {
     "data": {
      "text/plain": [
       "(None, None)"
      ]
     },
     "execution_count": 11,
     "metadata": {},
     "output_type": "execute_result"
    }
   ],
   "source": [
    "l = [x for x in \"abcdefgh\"]\n",
    "l.reverse(), print(l), print(l.pop())\n",
    "l.sort(), l.remove('h')\n",
    "print(l)\n",
    "l.reverse(), print(l)"
   ]
  },
  {
   "cell_type": "markdown",
   "id": "ecca8b69",
   "metadata": {},
   "source": [
    "``` example\n",
    "['h', 'g', 'f', 'e', 'd', 'c', 'b', 'a']\n",
    "a\n",
    "['b', 'c', 'd', 'e', 'f', 'g']\n",
    "['g', 'f', 'e', 'd', 'c', 'b']\n",
    "```\n",
    "\n",
    "## Tuppler\n",
    "\n",
    "-   En tuppel er som en liste\n",
    "-   Alle elementene må være samme type\n",
    "-   En tuppel er en uforanderlig datastruktur (immutable)\n",
    "\n",
    "## Tuppelksempler"
   ]
  },
  {
   "cell_type": "code",
   "execution_count": 12,
   "id": "6b84739a",
   "metadata": {},
   "outputs": [
    {
     "name": "stdout",
     "output_type": "stream",
     "text": [
      "('a', 'b', 'c')\n",
      "(0, 1, 2)\n"
     ]
    }
   ],
   "source": [
    "print(tuple(\"abc\"))\n",
    "print(tuple(range(3)))"
   ]
  },
  {
   "cell_type": "markdown",
   "id": "9f5e10d7",
   "metadata": {},
   "source": [
    "``` example\n",
    "('a', 'b', 'c')\n",
    "(0, 1, 2)\n",
    "```\n",
    "\n",
    "## Lister eller tuppler\n",
    "\n",
    "-   Tuppler når…\n",
    "    -   du vil returnere flere verdier fra en funksjon\n",
    "    -   du vet at mengden elementer vil være konstant\n",
    "-   Lister når…\n",
    "    -   til alt annet\n",
    "\n",
    "### Notater <span class=\"tag\" tag-name=\"B_noteNH\"><span class=\"smallcaps\">B_noteNH</span></span>\n",
    "\n",
    "-   Dette er en grov oversimplifikasjon\n",
    "-   Tuppler er nyttige når du alltid vet lengden på listen\n",
    "-   Lister av tuppler for `[(helse, distanse)]`\n",
    "\n",
    "## Sett\n",
    "\n",
    "-   Uordnet datastruktur som ikke kan inneholde duplikater\n",
    "-   **OBS:** Uordnet!\n",
    "    -   Ingen garantier for rekkefølgen på elementene\n",
    "    -   Støtter ikke indeksering, skjæring osv\n",
    "\n",
    "## Setteksempel"
   ]
  },
  {
   "cell_type": "code",
   "execution_count": 13,
   "id": "2922d91b",
   "metadata": {},
   "outputs": [
    {
     "name": "stdout",
     "output_type": "stream",
     "text": [
      "{0, 1, 2}\n",
      "{1, 2, 3}\n"
     ]
    }
   ],
   "source": [
    "print(set(range(3)))\n",
    "print(set([1, 2, 3, 2, 3, 1,]))"
   ]
  },
  {
   "cell_type": "markdown",
   "id": "b3d100cc",
   "metadata": {},
   "source": [
    "``` example\n",
    "{0, 1, 2}\n",
    "{1, 2, 3}\n",
    "```\n",
    "\n",
    "## Setteksempel"
   ]
  },
  {
   "cell_type": "code",
   "execution_count": 14,
   "id": "611765be",
   "metadata": {},
   "outputs": [
    {
     "name": "stdout",
     "output_type": "stream",
     "text": [
      "{0, 1, 2, 3, 4}\n",
      "{0, 1, 2, 3, 4}\n",
      "{0, 1, 3, 4}\n"
     ]
    }
   ],
   "source": [
    "s = set(range(5))\n",
    "print(s)\n",
    "s.add(2)\n",
    "print(s)\n",
    "s.remove(2)\n",
    "s.discard(2)\n",
    "print(s)"
   ]
  },
  {
   "attachments": {
    "images/come-fite-me-irl.png": {
     "image/png": "\n"
    }
   },
   "cell_type": "markdown",
   "id": "fcb434f9",
   "metadata": {},
   "source": [
    "``` example\n",
    "{0, 1, 2, 3, 4}\n",
    "{0, 1, 2, 3, 4}\n",
    "{0, 1, 3, 4}\n",
    "```\n",
    "\n",
    "## Ordbøker\n",
    "\n",
    "-   Ekstrem fornorsking av `dict`\n",
    "-   Den beste datastrukturen som finnes\n",
    "\n",
    "## Ordbøker\n",
    "\n",
    "![](attachment:images/come-fite-me-irl.png)\n",
    "\n",
    "## Ordbøker\n",
    "\n",
    "-   Ekstrem fornorsking av `dict`\n",
    "-   Den beste datastrukturen som finnes\n",
    "-   Nyttig når du vil knytte verdier til en nøkkel\n",
    "    -   Nøkkel er det som binder verdier til noe\n",
    "    -   Verdiene kan være hva som helst, tall, lister, tuppler osv\n",
    "\n",
    "### Notater <span class=\"tag\" tag-name=\"B_noteNH\"><span class=\"smallcaps\">B_noteNH</span></span>\n",
    "\n",
    "-   Nevne at en nøkkel kan være omtrent hva som helst\n",
    "    -   Kan være en bokstav for å kunne telle hvor mange ganger den er i\n",
    "        en tekst\n",
    "    -   En streng for akkurat det samme\n",
    "    -   Binde egenskaper til karakterer i et spill\n",
    "\n",
    "## Ordbokeksempel"
   ]
  },
  {
   "cell_type": "code",
   "execution_count": 15,
   "id": "eeb566cb",
   "metadata": {},
   "outputs": [
    {
     "name": "stdout",
     "output_type": "stream",
     "text": [
      "{'a': 1, 'b': 2, 'c': 3}\n",
      "{'a': 1, 'b': 2, 'c': 3}\n",
      "{'a': 1, 'b': 2, 'c': 3}\n",
      "{'a': 1, 'b': 2, 'c': 3}\n"
     ]
    }
   ],
   "source": [
    "print({'a': 1, 'b': 2, 'c': 3})\n",
    "print(dict(a=1, b=2, c=3))\n",
    "print(dict(zip(['a', 'b', 'c'], [1, 2, 3])))\n",
    "print(dict([('a', 1), ('b', 2), ('c', 3)]))"
   ]
  },
  {
   "cell_type": "markdown",
   "id": "eb347455",
   "metadata": {},
   "source": [
    "``` example\n",
    "{'a': 1, 'b': 2, 'c': 3}\n",
    "{'a': 1, 'b': 2, 'c': 3}\n",
    "{'a': 1, 'b': 2, 'c': 3}\n",
    "{'a': 1, 'b': 2, 'c': 3}\n",
    "```\n",
    "\n",
    "## Ordbokeksempel"
   ]
  },
  {
   "cell_type": "code",
   "execution_count": 16,
   "id": "ff9f756e",
   "metadata": {},
   "outputs": [
    {
     "name": "stdout",
     "output_type": "stream",
     "text": [
      "{'navn': 'Sondre', 'age': 26, 'cool': True}\n",
      "Sondre\n",
      "Sondre\n"
     ]
    }
   ],
   "source": [
    "me = {'navn': \"Sindre\", \"age\": 26, 'cool': False}\n",
    "me['navn'] = \"Sondre\"\n",
    "me.update({\"cool\": True})\n",
    "print(me)\n",
    "print(me.get(\"navn\"))\n",
    "print(me['navn'])"
   ]
  },
  {
   "cell_type": "markdown",
   "id": "e6ea6311",
   "metadata": {},
   "source": [
    "``` example\n",
    "{'navn': 'Sondre', 'age': 26, 'cool': True}\n",
    "Sondre\n",
    "Sondre\n",
    "```\n",
    "\n",
    "## Generelle samlingsoperasjoner"
   ]
  },
  {
   "cell_type": "code",
   "execution_count": 17,
   "id": "370dcaf6",
   "metadata": {},
   "outputs": [
    {
     "name": "stdout",
     "output_type": "stream",
     "text": [
      "8\n",
      "a\n",
      "h\n",
      "True\n",
      "False\n"
     ]
    },
    {
     "data": {
      "text/plain": [
       "(None, None)"
      ]
     },
     "execution_count": 17,
     "metadata": {},
     "output_type": "execute_result"
    }
   ],
   "source": [
    "l = [x for x in \"abcdefgh\"]\n",
    "print(len(l)), print(min(l)), print(max(l))\n",
    "print(\"d\" in l), print(\"x\" in l)"
   ]
  },
  {
   "cell_type": "markdown",
   "id": "fd74c57e",
   "metadata": {},
   "source": [
    "``` example\n",
    "8\n",
    "a\n",
    "h\n",
    "True\n",
    "False\n",
    "```\n",
    "\n",
    "## Generelle samlingsoperasjoner"
   ]
  },
  {
   "cell_type": "code",
   "execution_count": 18,
   "id": "334b20a9",
   "metadata": {},
   "outputs": [
    {
     "name": "stdout",
     "output_type": "stream",
     "text": [
      "False\n",
      "True\n"
     ]
    }
   ],
   "source": [
    "l = [True, False, True, True, False]\n",
    "print(all(l))\n",
    "print(any(l))"
   ]
  },
  {
   "cell_type": "markdown",
   "id": "feb0cc06",
   "metadata": {},
   "source": [
    "``` example\n",
    "False\n",
    "True\n",
    "```\n",
    "\n",
    "## Variabler\n",
    "\n",
    "1.  Gi verdier navn\n",
    "2.  Bruk `snake_case` for navn\n",
    "3.  Bruk gode navn\n",
    "4.  Helst engelske navn\n",
    "5.  Unngå globale variabler\n",
    "\n",
    "## Variabler, eksempel"
   ]
  },
  {
   "cell_type": "code",
   "execution_count": 19,
   "id": "ebd2cd1d",
   "metadata": {},
   "outputs": [],
   "source": [
    "sierHei = \"Hei\"  # camelCase, bad\n",
    "sier_hei = \"Hei\" # snake_case, good, norsk, bad\n",
    "says_hei = \"Hei\" # good, good"
   ]
  },
  {
   "cell_type": "markdown",
   "id": "7bb22e4b",
   "metadata": {},
   "source": [
    "## Variabler, eksempel"
   ]
  },
  {
   "cell_type": "code",
   "execution_count": 20,
   "id": "c834c65f",
   "metadata": {},
   "outputs": [
    {
     "name": "stdout",
     "output_type": "stream",
     "text": [
      "3\n",
      "5\n",
      "5\n"
     ]
    }
   ],
   "source": [
    "a = b = c = 5\n",
    "a = 3\n",
    "\n",
    "print(a)\n",
    "print(b)\n",
    "print(c)"
   ]
  },
  {
   "cell_type": "markdown",
   "id": "7f5e2031",
   "metadata": {},
   "source": [
    "``` example\n",
    "3\n",
    "5\n",
    "5\n",
    "```\n",
    "\n",
    "## Variabler, eksempel"
   ]
  },
  {
   "cell_type": "code",
   "execution_count": 21,
   "id": "61183c3c",
   "metadata": {},
   "outputs": [
    {
     "name": "stdout",
     "output_type": "stream",
     "text": [
      "2\n",
      "4\n",
      "2\n"
     ]
    }
   ],
   "source": [
    "x = 2\n",
    "print(x)\n",
    "x += 2 # x = x + 2\n",
    "print(x)\n",
    "x /= 2\n",
    "print(2)"
   ]
  },
  {
   "cell_type": "markdown",
   "id": "7193a2ca",
   "metadata": {},
   "source": [
    "``` example\n",
    "2\n",
    "4\n",
    "2\n",
    "```\n",
    "\n",
    "## Variabler, eksempel"
   ]
  },
  {
   "cell_type": "code",
   "execution_count": 22,
   "id": "56f277a9",
   "metadata": {},
   "outputs": [
    {
     "name": "stdout",
     "output_type": "stream",
     "text": [
      "1\n",
      "12.5\n",
      "hei\n"
     ]
    }
   ],
   "source": [
    "a, b, c = 1, 12.5, \"hei\"\n",
    "\n",
    "print(a)\n",
    "print(b)\n",
    "print(c)"
   ]
  },
  {
   "cell_type": "markdown",
   "id": "bf056c8c",
   "metadata": {},
   "source": [
    "``` example\n",
    "1\n",
    "12.5\n",
    "hei\n",
    "```\n",
    "\n",
    "### Notater <span class=\"tag\" tag-name=\"B_noteNH\"><span class=\"smallcaps\">B_noteNH</span></span>\n",
    "\n",
    "Kommer tilbake til å gi flere variabler verdier på en gang senere\n",
    "\n",
    "## Funksjoner\n",
    "\n",
    "-   Funksjoner er en måte å bryte opp flyten og strukturen av programmet\n",
    "    ditt i mindre biter\n",
    "-   Gjør kode mer lesbar, gjør det mulig med gjenbruk\n",
    "-   Blir ikke evaluert før du kaller på funksjonen\n",
    "-   Kan ha navngitte parametre\n",
    "\n",
    "## Funksjoner\n",
    "\n",
    "-   Hva er forskjellen på en funksjon og en metode?\n",
    "-   Forskjellen på `print` og `return`\n",
    "\n",
    "## Funksjoner, eksempel"
   ]
  },
  {
   "cell_type": "code",
   "execution_count": 23,
   "id": "3c81ac75",
   "metadata": {},
   "outputs": [
    {
     "name": "stdout",
     "output_type": "stream",
     "text": [
      "Hello Sondre\n"
     ]
    }
   ],
   "source": [
    "def hello(name):\n",
    "    print(f\"Hello {name}\")\n",
    "\n",
    "hello(\"Sondre\")"
   ]
  },
  {
   "cell_type": "markdown",
   "id": "dfdd2b74",
   "metadata": {},
   "source": [
    "``` example\n",
    "Hello Sondre\n",
    "```\n",
    "\n",
    "## Funksjoner, eksempel"
   ]
  },
  {
   "cell_type": "code",
   "execution_count": 24,
   "id": "514690f9",
   "metadata": {},
   "outputs": [
    {
     "data": {
      "text/plain": [
       "'Hello Sondre'"
      ]
     },
     "execution_count": 24,
     "metadata": {},
     "output_type": "execute_result"
    }
   ],
   "source": [
    "def hello(name):\n",
    "    \"\"\"Returns a hello to a person.\"\"\"\n",
    "    return f\"Hello {name}\"\n",
    "\n",
    "hello(\"Sondre\")"
   ]
  },
  {
   "cell_type": "markdown",
   "id": "4abbfbfd",
   "metadata": {},
   "source": [
    "## Funksjoner, eksempel"
   ]
  },
  {
   "cell_type": "code",
   "execution_count": 25,
   "id": "58c1b915",
   "metadata": {},
   "outputs": [
    {
     "name": "stdout",
     "output_type": "stream",
     "text": [
      "Hello Sondre\n"
     ]
    }
   ],
   "source": [
    "def hello(name):\n",
    "    \"\"\"Returns a hello to a person.\"\"\"\n",
    "    return f\"Hello {name}\"\n",
    "\n",
    "print(hello(\"Sondre\"))"
   ]
  },
  {
   "cell_type": "markdown",
   "id": "84ad7eb7",
   "metadata": {},
   "source": [
    "``` example\n",
    "Hello Sondre\n",
    "```\n",
    "\n",
    "## Funksjoner, eksempel"
   ]
  },
  {
   "cell_type": "code",
   "execution_count": 26,
   "id": "0f2313af",
   "metadata": {},
   "outputs": [],
   "source": [
    "def hello(name: str) -> None:\n",
    "    print(f\"Hello {name}\")\n",
    "\n",
    "def hello(name: str) -> str:\n",
    "    return f\"Hello {name}\""
   ]
  },
  {
   "cell_type": "markdown",
   "id": "ea0ab7a3",
   "metadata": {},
   "source": [
    "## Funksjoner, eksempel"
   ]
  },
  {
   "cell_type": "code",
   "execution_count": 27,
   "id": "4ef488cd",
   "metadata": {},
   "outputs": [
    {
     "name": "stdout",
     "output_type": "stream",
     "text": [
      "Hello Ola\n",
      "Hello Sondre\n"
     ]
    }
   ],
   "source": [
    "def hello(name = \"Sondre\"):\n",
    "    print(f\"Hello {name}\")\n",
    "\n",
    "hello(\"Ola\")\n",
    "hello()"
   ]
  },
  {
   "cell_type": "markdown",
   "id": "92e481f9",
   "metadata": {},
   "source": [
    "``` example\n",
    "Hello Ola\n",
    "Hello Sondre\n",
    "```\n",
    "\n",
    "## Funksjoner, litt avansert"
   ]
  },
  {
   "cell_type": "code",
   "execution_count": 28,
   "id": "c7932218",
   "metadata": {},
   "outputs": [],
   "source": [
    "def what(*args, **kwargs):\n",
    "    pass"
   ]
  },
  {
   "cell_type": "markdown",
   "id": "a4cacbfb",
   "metadata": {},
   "source": [
    "-   `*args` er for en vilkårlig mengde argumenter til en funksjon som\n",
    "    ikke har nok parametre.\n",
    "-   `**kwargs` for for navngitte argumenter til en funksjon som ikke har\n",
    "    dem som parametre.\n",
    "\n",
    "## Funksjoner, `*args`"
   ]
  },
  {
   "cell_type": "code",
   "execution_count": 29,
   "id": "350bfee1",
   "metadata": {},
   "outputs": [
    {
     "name": "stdout",
     "output_type": "stream",
     "text": [
      "Katt\n",
      "Hund\n",
      "Hest\n"
     ]
    }
   ],
   "source": [
    "def print_args(*args):\n",
    "    [print(x) for x in args]\n",
    "\n",
    "print_args(\"Katt\", \"Hund\", \"Hest\")"
   ]
  },
  {
   "cell_type": "markdown",
   "id": "f424467a",
   "metadata": {},
   "source": [
    "``` example\n",
    "Katt\n",
    "Hund\n",
    "Hest\n",
    "```\n",
    "\n",
    "## Funksjoner, `**kwargs`"
   ]
  },
  {
   "cell_type": "code",
   "execution_count": 30,
   "id": "2a78f796",
   "metadata": {},
   "outputs": [
    {
     "name": "stdout",
     "output_type": "stream",
     "text": [
      "Katt: kos\n",
      "Hund: kos\n",
      "Hest: kjip\n"
     ]
    }
   ],
   "source": [
    "def print_kwargs(**kwargs):\n",
    "    [print(f\"{x}: {y}\") for x, y in kwargs.items()]\n",
    "\n",
    "print_kwargs(Katt=\"kos\", Hund=\"kos\", Hest=\"kjip\")"
   ]
  },
  {
   "attachments": {
    "images/harry-python.jpg": {
     "image/jpeg": "\n"
    }
   },
   "cell_type": "markdown",
   "id": "1828adcf",
   "metadata": {},
   "source": [
    "``` example\n",
    "Katt: kos\n",
    "Hund: kos\n",
    "Hest: kjip\n",
    "```\n",
    "\n",
    "## Pause\n",
    "\n",
    "![](attachment:images/harry-python.jpg)\n",
    "\n",
    "# Avansert\n",
    "\n",
    "## Notater <span class=\"tag\" tag-name=\"B_noteNH\"><span class=\"smallcaps\">B_noteNH</span></span>\n",
    "\n",
    "-   Denne seksjonen vil gå mer inn på hvordan faktisk skrive og bruke\n",
    "    det vi gikk gjennom i forrige seksjon\n",
    "-   Vi kommer til å se på…\n",
    "    -   Importering av moduler\n",
    "    -   Iterasjon av lister, tupler osv\n",
    "    -   Listekomprehensjon\n",
    "    -   Løkker\n",
    "    -   Kontrollflyt i funksjoner\n",
    "    -   Og til slutt, scope\n",
    "-   Dette blir den mest intense delen av kræsjkurset\n",
    "\n",
    "## Importering"
   ]
  },
  {
   "cell_type": "code",
   "execution_count": 31,
   "id": "6967b49b",
   "metadata": {},
   "outputs": [
    {
     "name": "stdout",
     "output_type": "stream",
     "text": [
      "3.141592653589793\n",
      "[1, 3, 6, 10, 15]\n"
     ]
    }
   ],
   "source": [
    "import math\n",
    "from itertools import accumulate\n",
    "\n",
    "print(math.pi)\n",
    "print(list(accumulate([1,2,3,4,5])))"
   ]
  },
  {
   "cell_type": "markdown",
   "id": "e64cb6a3",
   "metadata": {},
   "source": [
    "``` example\n",
    "3.141592653589793\n",
    "[1, 3, 6, 10, 15]\n",
    "```\n",
    "\n",
    "## Kontrollflyt\n",
    "\n",
    "-   Boolsk logikk\n",
    "-   Viktig å holde tungen rett i munnen og koden rett i fingrene\n",
    "\n",
    "## Kontrollflyt, tips"
   ]
  },
  {
   "cell_type": "code",
   "execution_count": 32,
   "id": "3d49476f",
   "metadata": {},
   "outputs": [
    {
     "name": "stdout",
     "output_type": "stream",
     "text": [
      "FY\n",
      "Ja!\n",
      "Ja!\n"
     ]
    }
   ],
   "source": [
    "x = True\n",
    "if x == True:\n",
    "    print(\"FY\")\n",
    "if x:\n",
    "    print(\"Ja!\")\n",
    "print(\"Ja!\" if x else \"Fy!\")"
   ]
  },
  {
   "cell_type": "markdown",
   "id": "f4f0a8c3",
   "metadata": {},
   "source": [
    "``` example\n",
    "FY\n",
    "Ja!\n",
    "Ja!\n",
    "```\n",
    "\n",
    "### Notater <span class=\"tag\" tag-name=\"B_noteNH\"><span class=\"smallcaps\">B_noteNH</span></span>\n",
    "\n",
    "-   Kanskje ikke veldig viktig, men viktig likevel!\n",
    "-   Har mye med stil å gjøre\n",
    "-   Som man ser er en if-sjekk alltid på om noe er sant\n",
    "\n",
    "## Kontrollflyt, tips"
   ]
  },
  {
   "cell_type": "code",
   "execution_count": 33,
   "id": "e016c91f",
   "metadata": {},
   "outputs": [
    {
     "name": "stdout",
     "output_type": "stream",
     "text": [
      "Y\n"
     ]
    }
   ],
   "source": [
    "x, y = (True, False)\n",
    "if not y:\n",
    "    print(\"Y\")\n",
    "if not x:\n",
    "    print(\"X\")"
   ]
  },
  {
   "cell_type": "markdown",
   "id": "fe482e6c",
   "metadata": {},
   "source": [
    "``` example\n",
    "Y\n",
    "```\n",
    "\n",
    "### Notater <span class=\"tag\" tag-name=\"B_noteNH\"><span class=\"smallcaps\">B_noteNH</span></span>\n",
    "\n",
    "-   Man bør bruke `not` til negasjon\n",
    "-   Det boolske uttrykket blir invertert\n",
    "-   Sanne uttrykk blir falske, usanne blir sanne\n",
    "-   Nyttig når du vil sjekke om en tilstand ikke skjer\n",
    "\n",
    "## Kontrollflyt, eksempler"
   ]
  },
  {
   "cell_type": "code",
   "execution_count": 34,
   "id": "ca79c664",
   "metadata": {},
   "outputs": [
    {
     "name": "stdout",
     "output_type": "stream",
     "text": [
      "Whoops\n"
     ]
    }
   ],
   "source": [
    "x, y = (True, False)\n",
    "if x and y:\n",
    "    print(\"Hurra!\")\n",
    "else:\n",
    "    print(\"Whoops\")"
   ]
  },
  {
   "cell_type": "markdown",
   "id": "fe65745d",
   "metadata": {},
   "source": [
    "``` example\n",
    "Whoops\n",
    "```\n",
    "\n",
    "### Notater <span class=\"tag\" tag-name=\"B_noteNH\"><span class=\"smallcaps\">B_noteNH</span></span>\n",
    "\n",
    "-   `and` betyr at begge uttrykkene må være sanne\n",
    "\n",
    "## Kontrollflyt, eksempler"
   ]
  },
  {
   "cell_type": "code",
   "execution_count": 35,
   "id": "e6649066",
   "metadata": {},
   "outputs": [
    {
     "name": "stdout",
     "output_type": "stream",
     "text": [
      "En av dem\n",
      "Motsatt\n"
     ]
    }
   ],
   "source": [
    "x, y = (True, False)\n",
    "if x or y:\n",
    "    print(\"En av dem\")\n",
    "if not x or y:\n",
    "    print(\"Ingen av dem\")\n",
    "if not x or not y:\n",
    "    print(\"Motsatt\")"
   ]
  },
  {
   "cell_type": "markdown",
   "id": "b63c93aa",
   "metadata": {},
   "source": [
    "``` example\n",
    "En av dem\n",
    "Motsatt\n",
    "```\n",
    "\n",
    "### Notater <span class=\"tag\" tag-name=\"B_noteNH\"><span class=\"smallcaps\">B_noteNH</span></span>\n",
    "\n",
    "-   Veldig likt `and`, men her må kun ett av uttrykkene være sanne\n",
    "\n",
    "## Kontrollflyt\n",
    "\n",
    "-   Boolsk logikk\n",
    "-   Viktig å holde tungen rett i munnen og koden rett i fingrene\n",
    "-   Uttrykkene må ikke være boolske variabler, kan også være funksjoner\n",
    "    som returnerer boolske verdier eller sammenligninger som enten er\n",
    "    sanne eller falske\n",
    "-   `and`, `not` og `or` kortslutter sjekken\n",
    "\n",
    "## Kontrollflyt, eksempler"
   ]
  },
  {
   "cell_type": "code",
   "execution_count": 36,
   "id": "420d69b9",
   "metadata": {},
   "outputs": [
    {
     "name": "stdout",
     "output_type": "stream",
     "text": [
      "Cool\n"
     ]
    }
   ],
   "source": [
    "def always_true(): return True\n",
    "def always_not_true(): return False\n",
    "\n",
    "if always_true():\n",
    "    print(\"Cool\")\n",
    "if always_not_true():\n",
    "    print(\"Fake news!\")"
   ]
  },
  {
   "cell_type": "markdown",
   "id": "f123684f",
   "metadata": {},
   "source": [
    "``` example\n",
    "Cool\n",
    "```\n",
    "\n",
    "## Kontrollflyt, eksempler"
   ]
  },
  {
   "cell_type": "code",
   "execution_count": 37,
   "id": "bf454927",
   "metadata": {},
   "outputs": [
    {
     "name": "stdout",
     "output_type": "stream",
     "text": [
      "Sondre er kul\n"
     ]
    }
   ],
   "source": [
    "name = \"Sondre\"\n",
    "cool = True\n",
    "if len(name) >= 6 and name != \"Sindre\":\n",
    "    print(\"Sondre er kul\")"
   ]
  },
  {
   "cell_type": "markdown",
   "id": "aa7cc4f3",
   "metadata": {},
   "source": [
    "``` example\n",
    "Sondre er kul\n",
    "```\n",
    "\n",
    "## Kontrollflyt, eksempler"
   ]
  },
  {
   "cell_type": "code",
   "execution_count": 38,
   "id": "9d6a1797",
   "metadata": {},
   "outputs": [
    {
     "ename": "SyntaxError",
     "evalue": "invalid syntax (3366954395.py, line 5)",
     "output_type": "error",
     "traceback": [
      "\u001b[0;36m  File \u001b[0;32m\"/tmp/ipykernel_82108/3366954395.py\"\u001b[0;36m, line \u001b[0;32m5\u001b[0m\n\u001b[0;31m    <  # strengt mindre\u001b[0m\n\u001b[0m    ^\u001b[0m\n\u001b[0;31mSyntaxError\u001b[0m\u001b[0;31m:\u001b[0m invalid syntax\n"
     ]
    }
   ],
   "source": [
    "x or y # en må være sann\n",
    "x and y # begge må være sanne\n",
    "not x # negasjon\n",
    "\n",
    "<  # strengt mindre\n",
    "<= # mindre eller lik\n",
    ">  # strengt større\n",
    ">= # større eller lik\n",
    "== # lik\n",
    "!= # ikke lik"
   ]
  },
  {
   "cell_type": "markdown",
   "id": "a2d268f6",
   "metadata": {},
   "source": [
    "## Kontrollflyt, eksempler"
   ]
  },
  {
   "cell_type": "code",
   "execution_count": null,
   "id": "2c1a21f4",
   "metadata": {},
   "outputs": [],
   "source": [
    "x, y, z = (True, False, False)\n",
    "if x and z:\n",
    "    print(\"Heisann!\")\n",
    "elif y or z:\n",
    "    print(\"Sveisann!\")\n",
    "else:\n",
    "    print(\"Neivel...\")"
   ]
  },
  {
   "cell_type": "markdown",
   "id": "8c659107",
   "metadata": {},
   "source": [
    "``` example\n",
    "Neivel...\n",
    "```\n",
    "\n",
    "## Kontrollflyt, eksempler"
   ]
  },
  {
   "cell_type": "code",
   "execution_count": null,
   "id": "82126943",
   "metadata": {},
   "outputs": [],
   "source": [
    "x, y, z = (True, False, False)\n",
    "if x and z:\n",
    "    print(\"Heisann!\")\n",
    "elif x or z:\n",
    "    print(\"Sveisann!\")\n",
    "else:\n",
    "    print(\"Neivel...\")"
   ]
  },
  {
   "cell_type": "markdown",
   "id": "7058f161",
   "metadata": {},
   "source": [
    "``` example\n",
    "Sveisann!\n",
    "```\n",
    "\n",
    "## Kontrollflyt, eksempler"
   ]
  },
  {
   "cell_type": "code",
   "execution_count": null,
   "id": "c6871a5d",
   "metadata": {},
   "outputs": [],
   "source": [
    "x, y, z = (True, False, False)\n",
    "if x and not z:\n",
    "    print(\"Heisann!\")\n",
    "if x or z:\n",
    "    print(\"Sveisann!\")\n",
    "else:\n",
    "    print(\"Neivel...\")"
   ]
  },
  {
   "cell_type": "markdown",
   "id": "63fff18b",
   "metadata": {},
   "source": [
    "``` example\n",
    "Heisann!\n",
    "Sveisann!\n",
    "```\n",
    "\n",
    "## Kontrollflyt, eksempler"
   ]
  },
  {
   "cell_type": "code",
   "execution_count": null,
   "id": "a51a85a1",
   "metadata": {},
   "outputs": [],
   "source": [
    "x, y, z = (2, 5, 8)\n",
    "if x <= y <= z and 10 >= z:\n",
    "    print(\"Sant\")"
   ]
  },
  {
   "attachments": {
    "images/ohno.png": {
     "image/png": "\n"
    }
   },
   "cell_type": "markdown",
   "id": "5de58e1d",
   "metadata": {},
   "source": [
    "``` example\n",
    "Sant\n",
    "```\n",
    "\n",
    "## Løkker\n",
    "\n",
    "-   Mange måter å iterere over verdier i Python\n",
    "    -   For-løkker\n",
    "    -   Listekomprehensjon\n",
    "    -   `while`-løkker\n",
    "-   Ordbøker er ikke lister, viktig!\n",
    "-   Forskjellige måter å gjøre iterasjonen på i de forskjellige metodene\n",
    "-   Viktig å forstå når man burde bruke…\n",
    "    -   `for x in range(10)`\n",
    "    -   `for x in y`\n",
    "    -   `for i, x in enumerate(y)`\n",
    "\n",
    "## Indekser\n",
    "\n",
    "**Men først!**\n",
    "\n",
    "-   Lister, tuppler og strenger har indekser\n",
    "-   Alt er selvsagt nullindeksert\n",
    "\n",
    "## Indekser\n",
    "\n",
    "![](attachment:images/ohno.png)\n",
    "\n",
    "## Indekser\n",
    "\n",
    "**Men først!**\n",
    "\n",
    "-   Lister, tuppler og strenger har indekser\n",
    "-   Alt er selvsagt nullindeksert\n",
    "-   Python har noen geniale triks med indeksering\n",
    "\n",
    "## Indekser, reversering"
   ]
  },
  {
   "cell_type": "code",
   "execution_count": null,
   "id": "1ccd4e00",
   "metadata": {},
   "outputs": [],
   "source": [
    "print(\"Hello world!\"[::-1])\n",
    "print([1,2,3,4,5][::-1])"
   ]
  },
  {
   "cell_type": "markdown",
   "id": "aa09e1c0",
   "metadata": {},
   "source": [
    "``` example\n",
    "!dlrow olleH\n",
    "[5, 4, 3, 2, 1]\n",
    "```\n",
    "\n",
    "## Indekser, skjæring"
   ]
  },
  {
   "cell_type": "code",
   "execution_count": null,
   "id": "fe01933f",
   "metadata": {},
   "outputs": [],
   "source": [
    "print(\"Hello world!\"[:5])\n",
    "print([1,2,3,4,5][1:3])"
   ]
  },
  {
   "cell_type": "markdown",
   "id": "1f235332",
   "metadata": {},
   "source": [
    "``` example\n",
    "Hello\n",
    "[2, 3]\n",
    "```\n",
    "\n",
    "## Indekser, skjæring"
   ]
  },
  {
   "cell_type": "code",
   "execution_count": null,
   "id": "3851a7ed",
   "metadata": {},
   "outputs": [],
   "source": [
    "[start:slutt:steg]"
   ]
  },
  {
   "cell_type": "markdown",
   "id": "6036bd8c",
   "metadata": {},
   "source": [
    "-   Ta alle elementer fra start til slutt med *n* steg mellom dem"
   ]
  },
  {
   "cell_type": "code",
   "execution_count": null,
   "id": "2fb9a875",
   "metadata": {},
   "outputs": [],
   "source": [
    "print([i for i in range(0, 10, 2)])"
   ]
  },
  {
   "cell_type": "markdown",
   "id": "4c97b0c4",
   "metadata": {},
   "source": [
    "``` example\n",
    "[0, 2, 4, 6, 8]\n",
    "```\n",
    "\n",
    "## Indekser, skjæring illustrert\n",
    "\n",
    "``` example\n",
    "Indeks bakover:   -6  -5  -4  -3  -2  -1\n",
    "Indeks forover:    0   1   2   3   4   5\n",
    "                 +---+---+---+---+---+---+\n",
    "                 | P | y | t | h | o | n |\n",
    "                 +---+---+---+---+---+---+\n",
    "Kutt forover:    0   1   2   3   4   5   6\n",
    "Kutt bakover:   -6  -5  -4  -3  -2  -1\n",
    "```\n",
    "\n",
    "### Notater <span class=\"tag\" tag-name=\"B_noteNH\"><span class=\"smallcaps\">B_noteNH</span></span>\n",
    "\n",
    "-   Indeksene er selve posisjonene til elementene\n",
    "-   Kuttene går mellom elementene!\n",
    "-   Liten, men viktig forskjell\n",
    "\n",
    "## Løkker\n",
    "\n",
    "-   Mange måter å iterere over verdier i Python\n",
    "    -   For-løkker\n",
    "    -   Listekomprehensjon\n",
    "    -   `while`-løkker\n",
    "-   Ordbøker er ikke lister, viktig!\n",
    "-   Lister og tuppler funker identisk\n",
    "-   Forskjellige måter å gjøre iterasjonen på i de forskjellige metodene\n",
    "-   Viktig å forstå når man burde bruke…\n",
    "    -   `for x in range(10)`\n",
    "    -   `for x in y`\n",
    "    -   `for i, x in enumerate(y)`\n",
    "\n",
    "## `for`-løkker, lister"
   ]
  },
  {
   "cell_type": "code",
   "execution_count": null,
   "id": "08cb3ddd",
   "metadata": {},
   "outputs": [],
   "source": [
    "cities = [\"Oslo\", \"Bergen\", \"Moss\", \"Voss\"]\n",
    "for i in range(len(cities)):\n",
    "    print(cities[i])"
   ]
  },
  {
   "cell_type": "markdown",
   "id": "1b5910f1",
   "metadata": {},
   "source": [
    "``` example\n",
    "Oslo\n",
    "Bergen\n",
    "Moss\n",
    "Voss\n",
    "```\n",
    "\n",
    "## `for`-løkker, tuppler"
   ]
  },
  {
   "cell_type": "code",
   "execution_count": null,
   "id": "76077eb9",
   "metadata": {},
   "outputs": [],
   "source": [
    "cities = (\"Oslo\", \"Bergen\", \"Moss\", \"Voss\")\n",
    "for city in cities:\n",
    "    print(city)"
   ]
  },
  {
   "cell_type": "markdown",
   "id": "ee9ed642",
   "metadata": {},
   "source": [
    "``` example\n",
    "Oslo\n",
    "Bergen\n",
    "Moss\n",
    "Voss\n",
    "```\n",
    "\n",
    "## `for`-løkker, lister"
   ]
  },
  {
   "cell_type": "code",
   "execution_count": null,
   "id": "9def44eb",
   "metadata": {},
   "outputs": [],
   "source": [
    "cities = [\"Oslo\", \"Bergen\", \"Moss\", \"Voss\"]\n",
    "for i, city in enumerate(cities):\n",
    "    print(f\"{i}: {city}\")"
   ]
  },
  {
   "cell_type": "markdown",
   "id": "fdaadbcf",
   "metadata": {},
   "source": [
    "``` example\n",
    "0: Oslo\n",
    "1: Bergen\n",
    "2: Moss\n",
    "3: Voss\n",
    "```\n",
    "\n",
    "## `for`-løkker, lister"
   ]
  },
  {
   "cell_type": "code",
   "execution_count": null,
   "id": "d4e1cb25",
   "metadata": {},
   "outputs": [],
   "source": [
    "cities = [\"Oslo\", \"Bergen\", \"Moss\", \"Voss\"]\n",
    "for city in enumerate(cities):\n",
    "    print(city)"
   ]
  },
  {
   "cell_type": "markdown",
   "id": "b6e3a2c9",
   "metadata": {},
   "source": [
    "``` example\n",
    "(0, 'Oslo')\n",
    "(1, 'Bergen')\n",
    "(2, 'Moss')\n",
    "(3, 'Voss')\n",
    "```\n",
    "\n",
    "## `for`-løkker, lister\n",
    "\n",
    "-   Nesten aldri bruk `range` når du går gjennom lister\n",
    "-   \"Alltid\" bruk `for x in y`\n",
    "-   `enumerate` når du trenger å vite indeksen til elementene\n",
    "\n",
    "## `for`-løkker, ordbøker"
   ]
  },
  {
   "cell_type": "code",
   "execution_count": null,
   "id": "5daf5fe4",
   "metadata": {},
   "outputs": [],
   "source": [
    "me = {'navn': \"Sondre\", 'alder': 26,\n",
    "      'TA': True, 'cool': True}\n",
    "for e in me:\n",
    "    print(e)"
   ]
  },
  {
   "attachments": {
    "images/wat.png": {
     "image/png": "\n"
    }
   },
   "cell_type": "markdown",
   "id": "2c27a70e",
   "metadata": {},
   "source": [
    "``` example\n",
    "navn\n",
    "alder\n",
    "TA\n",
    "cool\n",
    "```\n",
    "\n",
    "## `for`-løkker, ordbøker\n",
    "\n",
    "![](attachment:images/wat.png)\n",
    "\n",
    "## `for`-løkker, ordbøker\n",
    "\n",
    "-   `for e in dict` returnerer nøklene\n",
    "-   `for e in dict.values()` returnerer verdiene\n",
    "-   `for key, val in dict.items()` returner tupplen `(key, val)`\n",
    "\n",
    "## `for`-løkker, ordbøker"
   ]
  },
  {
   "cell_type": "code",
   "execution_count": null,
   "id": "c3e64316",
   "metadata": {},
   "outputs": [],
   "source": [
    "me = {'navn': \"Sondre\", 'alder': 26,\n",
    "      'TA': True, 'cool': True}\n",
    "for key, val in me.items():\n",
    "    print(f\"{key}: {val}\")"
   ]
  },
  {
   "cell_type": "markdown",
   "id": "3eb14ea9",
   "metadata": {},
   "source": [
    "``` example\n",
    "navn: Sondre\n",
    "alder: 26\n",
    "TA: True\n",
    "cool: True\n",
    "```\n",
    "\n",
    "## Listekomprehensjon\n",
    "\n",
    "-   Gjør stort sett akkurat det samme som en vanlig `for`-løkke\n",
    "-   Kan gjøre koden mindre og enklere\n",
    "-   Men kan også gjøre koden unødvendig kompleks\n",
    "\n",
    "## Listekomprehensjon, eksempler"
   ]
  },
  {
   "cell_type": "code",
   "execution_count": null,
   "id": "c09b097f",
   "metadata": {},
   "outputs": [],
   "source": [
    "vowels = []\n",
    "for x in \"KRÆSJKURS\":\n",
    "    if x in \"AEIOUYÆØÅ\":\n",
    "        vowels.append(x)\n",
    "print(len(vowels))"
   ]
  },
  {
   "cell_type": "markdown",
   "id": "b04b558d",
   "metadata": {},
   "source": [
    "``` example\n",
    "2\n",
    "```\n",
    "\n",
    "## Listekomprehensjon, eksempler"
   ]
  },
  {
   "cell_type": "code",
   "execution_count": null,
   "id": "1120e596",
   "metadata": {},
   "outputs": [],
   "source": [
    "print(len([x for x in \"KRÆSJKURS\" if x in \"AEIOUYÆØÅ\"]))\n",
    "print(len([x for x in \"KRÆSJKURS\" if x not in \"AEIOUYÆØÅ\"]))"
   ]
  },
  {
   "cell_type": "markdown",
   "id": "6f8e9e4d",
   "metadata": {},
   "source": [
    "``` example\n",
    "2\n",
    "7\n",
    "```\n",
    "\n",
    "## Listekomprehensjon\n",
    "\n",
    "-   Slipper å lage en tom liste, legge til manuelt\n",
    "-   Ofte raskere enn en vanlig `for`-løkke\n",
    "\n",
    "## Listekomprehensjon, eksempler"
   ]
  },
  {
   "cell_type": "code",
   "execution_count": null,
   "id": "b60554b2",
   "metadata": {},
   "outputs": [],
   "source": [
    "l = [[1,2,3], [4,5,6], [7,8,9]]\n",
    "fix = [y for x in l for y in x]\n",
    "print(fix)"
   ]
  },
  {
   "cell_type": "markdown",
   "id": "4d7575d3",
   "metadata": {},
   "source": [
    "``` example\n",
    "[1, 2, 3, 4, 5, 6, 7, 8, 9]\n",
    "```\n",
    "\n",
    "## `while`-løkker\n",
    "\n",
    "-   Veldig forskjellig fra en `for`-løkke:\n",
    "    -   Itererer ikke over en datastruktur\n",
    "    -   Kjører til tilstanden er falsk\n",
    "-   Nyttig når har en tilstand som du hele tiden vil gjøre noe med\n",
    "\n",
    "## `while`-løkker, eksempler"
   ]
  },
  {
   "cell_type": "code",
   "execution_count": null,
   "id": "195b6b14",
   "metadata": {},
   "outputs": [],
   "source": [
    "while sondre_is_teaching():\n",
    "    everyone_pay_attention()\n",
    "for puffling in attendance:\n",
    "    puffling.skill += 5"
   ]
  },
  {
   "cell_type": "markdown",
   "id": "9bffdbb4",
   "metadata": {},
   "source": [
    "### Notater <span class=\"tag\" tag-name=\"B_noteNH\"><span class=\"smallcaps\">B_noteNH</span></span>\n",
    "\n",
    "-   Viktig å påpeke at man ikke putter for-løkka inni `while`-løkka\n",
    "-   Kan fort bety at `for`-løkka kjøres alt for mange ganger\n",
    "\n",
    "## `while`-løkker, eksempler"
   ]
  },
  {
   "cell_type": "code",
   "execution_count": null,
   "id": "58baf6eb",
   "metadata": {},
   "outputs": [],
   "source": [
    "from random import randint\n",
    "l = list()\n",
    "while sum(l) <= 100:\n",
    "    l.append(randint(0, 9))\n",
    "print(l)"
   ]
  },
  {
   "cell_type": "markdown",
   "id": "d90ae888",
   "metadata": {},
   "source": [
    "``` example\n",
    "[4, 2, 0, 5, 6, 7, 7, 6, 8, 7, 4, 7, 3, 5, 2, 6, 9, 8, 1, 2, 1, 1]\n",
    "```\n",
    "\n",
    "## `for`-løkker, `if` og `return`\n",
    "\n",
    "-   I de aller fleste tilfeller vil man gjøre noe mer avansert enn å\n",
    "    bare skrive ut verdier\n",
    "-   Viktig å vite hva `return` gjør i løkker\n",
    "    -   Så fort man kaller `return` vil funksjonen terminere og\n",
    "        returnere\n",
    "    -   Betyr at man må være forsiktig med `return` i løkker\n",
    "\n",
    "## `for`-løkker, `if` og `return`, eksempler"
   ]
  },
  {
   "cell_type": "code",
   "execution_count": null,
   "id": "fe195f65",
   "metadata": {},
   "outputs": [],
   "source": [
    "ll = [5, 2, 6, 1, 7, 11, 5, 2]\n",
    "def loop(l=ll):\n",
    "    for i in l:\n",
    "        if i >= 10:\n",
    "            return i\n",
    "        return i\n",
    "print(loop())"
   ]
  },
  {
   "cell_type": "markdown",
   "id": "91fc2122",
   "metadata": {},
   "source": [
    "``` example\n",
    "5\n",
    "```\n",
    "\n",
    "## `for`-løkker, `if` og `return`, eksempler"
   ]
  },
  {
   "cell_type": "code",
   "execution_count": null,
   "id": "a78d271b",
   "metadata": {},
   "outputs": [],
   "source": [
    "ll = [5, 2, 6, 1, 7, 11, 5, 2]\n",
    "def loop(l=ll):\n",
    "    for i in l:\n",
    "        if i >= 10:\n",
    "            return i\n",
    "        else:\n",
    "            return i\n",
    "print(loop())"
   ]
  },
  {
   "cell_type": "markdown",
   "id": "e95509e6",
   "metadata": {},
   "source": [
    "``` example\n",
    "5\n",
    "```\n",
    "\n",
    "## `for`-løkker, `if` og `return`, eksempler"
   ]
  },
  {
   "cell_type": "code",
   "execution_count": null,
   "id": "b223a57a",
   "metadata": {},
   "outputs": [],
   "source": [
    "ll = [5, 2, 6, 1, 7, 11, 5, 2]\n",
    "def loop(l=ll):\n",
    "    for i in l:\n",
    "        if i >= 10:\n",
    "            return i\n",
    "    return l[0]\n",
    "print(loop())"
   ]
  },
  {
   "cell_type": "markdown",
   "id": "9f7945d8",
   "metadata": {},
   "source": [
    "``` example\n",
    "11\n",
    "```\n",
    "\n",
    "## Unntakshåndtering\n",
    "\n",
    "-   Viktig å passe på at variabler oppfører seg som de skal\n",
    "-   Defensiv koding\n",
    "    -   Men ikke dra det for langt\n",
    "-   `if` på steroider\n",
    "\n",
    "## Unntakshåndtering, eksempler"
   ]
  },
  {
   "cell_type": "code",
   "execution_count": null,
   "id": "43619972",
   "metadata": {},
   "outputs": [],
   "source": [
    "l = [1, 5, 7, 2, 'a']\n",
    "for i in l:\n",
    "    assert isinstance(i, int), f\"{i} is not an integer\"\n",
    "    print(i)"
   ]
  },
  {
   "cell_type": "markdown",
   "id": "965f1c6a",
   "metadata": {},
   "source": [
    "``` example\n",
    "1 5 7 2\n",
    "AssertionError: a is not an integer\n",
    "```\n",
    "\n",
    "## Unntakshåndtering, eksempler"
   ]
  },
  {
   "cell_type": "code",
   "execution_count": null,
   "id": "eec364c4",
   "metadata": {},
   "outputs": [],
   "source": [
    "l = [15, 23, 50, 85, 64, 101]\n",
    "for i in l:\n",
    "    assert 0 <= i <= 100, f\"{i} is fake news!\"\n",
    "    print(i)"
   ]
  },
  {
   "cell_type": "markdown",
   "id": "e58f9467",
   "metadata": {},
   "source": [
    "``` example\n",
    "15 23 50 85 64\n",
    "AssertionError: 101 is fake news!\n",
    "```\n",
    "\n",
    "## Klasser\n",
    "\n",
    "-   God måte å innkapsle logikk på samme måte som funksjoner\n",
    "-   Funksjoner man skriver i klasser er metoder\n",
    "-   Python er et objektorientert programmeringsspråk\n",
    "    -   Mer eller mindre *alt* i Python er et objekt\n",
    "    -   Alle disse er basert på klassen `object`\n",
    "\n",
    "## Klasser, eksempler"
   ]
  },
  {
   "cell_type": "code",
   "execution_count": null,
   "id": "cd4dbf8d",
   "metadata": {},
   "outputs": [],
   "source": [
    "print(dir(object))"
   ]
  },
  {
   "cell_type": "markdown",
   "id": "c32efd0a",
   "metadata": {},
   "source": [
    "``` example\n",
    "['__class__', '__delattr__', '__dir__', '__doc__',\n",
    "'__eq__', '__format__', '__ge__', '__getattribute__',\n",
    "'__gt__', '__hash__', '__init__', '__init_subclass__',\n",
    "'__le__', '__lt__', '__ne__', '__new__', '__reduce__',\n",
    "'__reduce_ex__', '__repr__', '__setattr__', '__sizeof__',\n",
    "'__str__', '__subclasshook__']\n",
    "```\n",
    "\n",
    "## Klasser, eksempler"
   ]
  },
  {
   "cell_type": "code",
   "execution_count": null,
   "id": "72aed26a",
   "metadata": {},
   "outputs": [],
   "source": [
    "class Enemy:\n",
    "    def __init__(self, hp, distance):\n",
    "        self.hp = hp\n",
    "        self.distance = distance"
   ]
  },
  {
   "cell_type": "markdown",
   "id": "45ef55cd",
   "metadata": {},
   "source": [
    "## Klasser, eksempler"
   ]
  },
  {
   "cell_type": "code",
   "execution_count": null,
   "id": "4086281c",
   "metadata": {},
   "outputs": [],
   "source": [
    "class Enemy:\n",
    "    def attack():\n",
    "        return randint(0, 5)\n",
    "\n",
    "e = Enemy(10, 5)\n",
    "print(e.attack())"
   ]
  },
  {
   "cell_type": "markdown",
   "id": "c6ab5c0f",
   "metadata": {},
   "source": [
    "``` example\n",
    "2\n",
    "```\n",
    "\n",
    "## Scope\n",
    "\n",
    "-   Scope er synligheten til variabler og funksjoner i et program\n",
    "\n",
    "-   Python er LEGB: Local  \n",
    "    Navn til variabler/funksjoner i en funksjon som ikke er globale\n",
    "\n",
    "    Enclosing  \n",
    "    Navn gitt i omfattende funksjoner, fra indre til ytre\n",
    "\n",
    "    Global  \n",
    "    Navn gitt til variabler på toppnivået til modulen\n",
    "\n",
    "    Built-in  \n",
    "    Navn gitt til innebygde variabler/funksjoner\n",
    "\n",
    "## Scope, eksempler"
   ]
  },
  {
   "cell_type": "code",
   "execution_count": null,
   "id": "424ce9ab",
   "metadata": {},
   "outputs": [],
   "source": [
    "cat = \"meow\"\n",
    "def cat_changer():\n",
    "    cat = \"purr\"\n",
    "    print(f\"inside cat: {cat}\")\n",
    "cat_changer()\n",
    "print(f\"outside cat: {cat}\")"
   ]
  },
  {
   "cell_type": "markdown",
   "id": "9333f62e",
   "metadata": {},
   "source": [
    "``` example\n",
    "inside cat: purr\n",
    "outside cat: meow\n",
    "```\n",
    "\n",
    "# Problemløsing\n",
    "\n",
    "## Bingobrett\n",
    "\n",
    "**Bingobrett**\n",
    "\n",
    "Lag en funksjon som tar inn en størrelse på brettet (anta at brettet er\n",
    "et kvadrat) og to tall, `low` og `high`, som bestemmer hva som er\n",
    "laveste mulige tall man kan få på brettet og høyeste man kan få. Pass på\n",
    "at det ikke blir noen duplikater i brettet, men ignorer at den midterste\n",
    "ruten egentlig skal være tom. Prøv å gjøre det slik at den returnerer en\n",
    "streng som er et fint brett man kan skrive ut. Pass også på at verdiene\n",
    "som blir gitt av brukeren ikke er negative.\n",
    "\n",
    "# Tips\n",
    "\n",
    "## Tips\n",
    "\n",
    "-   Husk at alt av skrevne hjelpermidler er tilatt på eksamen\n",
    "-   Tegn og skriv hvordan du ser for deg ting skal fungere\n",
    "-   Forståelse og løsning viktigere enn korrekt syntaks\n",
    "\n",
    "# Konklusjon"
   ]
  }
 ],
 "metadata": {
  "kernelspec": {
   "display_name": "Python 3 (ipykernel)",
   "language": "python",
   "name": "python3"
  },
  "language_info": {
   "codemirror_mode": {
    "name": "ipython",
    "version": 3
   },
   "file_extension": ".py",
   "mimetype": "text/x-python",
   "name": "python",
   "nbconvert_exporter": "python",
   "pygments_lexer": "ipython3",
   "version": "3.9.7"
  }
 },
 "nbformat": 4,
 "nbformat_minor": 5
}
