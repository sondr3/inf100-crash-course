{
 "cells": [
  {
   "cell_type": "markdown",
   "metadata": {},
   "source": [
    "# Bingobrett\n",
    "\n",
    "Lag en funksjon som tar inn en størrelse på brettet (anta at brettet er et kvadrat) og to tall, `low` og `high`, som bestemmer hva som er laveste mulige tall man kan få på brettet og andre veien. Pass på at det ikke blir noen duplikater i brettet, men ignorer at den miderste ruten egentlig skal være tom. Prøv å gjøre det slik at den returnerer en streng som er et fint brett man kan printe."
   ]
  },
  {
   "cell_type": "code",
   "execution_count": 1,
   "metadata": {},
   "outputs": [],
   "source": [
    "import random"
   ]
  },
  {
   "cell_type": "code",
   "execution_count": 2,
   "metadata": {},
   "outputs": [],
   "source": [
    "def bingo(n: int, low: int, high: int):\n",
    "    size = n * n\n",
    "\n",
    "    board = set()\n",
    "    while len(board) < size:\n",
    "        board.add(random.randint(low, high))\n",
    "\n",
    "    board = list(board)\n",
    "    random.shuffle(board)\n",
    "    for idx, num in enumerate(board):\n",
    "        if idx % n == 0:\n",
    "            print()\n",
    "        print(f\"{num}\\t\", end=\"\")"
   ]
  },
  {
   "cell_type": "code",
   "execution_count": 3,
   "metadata": {},
   "outputs": [
    {
     "name": "stdout",
     "output_type": "stream",
     "text": [
      "\n",
      "67\t53\t22\t65\t18\t\n",
      "47\t66\t55\t69\t34\t\n",
      "24\t70\t61\t63\t11\t\n",
      "10\t50\t2\t12\t17\t\n",
      "48\t29\t83\t36\t78\t"
     ]
    }
   ],
   "source": [
    "bingo(5, 1, 90)"
   ]
  },
  {
   "cell_type": "code",
   "execution_count": 4,
   "metadata": {},
   "outputs": [
    {
     "name": "stdout",
     "output_type": "stream",
     "text": [
      "\n",
      "82\t26\t30\t10\t76\t28\t25\t60\t46\t72\t\n",
      "59\t43\t69\t6\t98\t61\t84\t15\t49\t99\t\n",
      "7\t94\t71\t52\t95\t89\t73\t68\t64\t65\t\n",
      "66\t97\t3\t56\t32\t63\t67\t86\t44\t51\t\n",
      "62\t78\t88\t41\t47\t93\t45\t96\t20\t4\t\n",
      "19\t16\t22\t11\t53\t81\t12\t42\t85\t34\t\n",
      "36\t27\t90\t29\t55\t23\t8\t5\t38\t39\t\n",
      "75\t87\t74\t100\t13\t1\t14\t79\t33\t58\t\n",
      "40\t2\t21\t31\t18\t77\t50\t57\t91\t24\t\n",
      "37\t35\t17\t92\t54\t9\t48\t80\t70\t83\t"
     ]
    }
   ],
   "source": [
    "bingo(10, 1, 100)"
   ]
  },
  {
   "cell_type": "code",
   "execution_count": null,
   "metadata": {},
   "outputs": [],
   "source": []
  }
 ],
 "metadata": {
  "kernelspec": {
   "display_name": "Python 3 (ipykernel)",
   "language": "python",
   "name": "python3"
  },
  "language_info": {
   "codemirror_mode": {
    "name": "ipython",
    "version": 3
   },
   "file_extension": ".py",
   "mimetype": "text/x-python",
   "name": "python",
   "nbconvert_exporter": "python",
   "pygments_lexer": "ipython3",
   "version": "3.9.7"
  }
 },
 "nbformat": 4,
 "nbformat_minor": 2
}
