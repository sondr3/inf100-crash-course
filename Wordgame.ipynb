{
 "cells": [
  {
   "cell_type": "code",
   "execution_count": 1,
   "id": "6acd5f2c",
   "metadata": {},
   "outputs": [],
   "source": [
    "def hide_word_alt(word, letters):\n",
    "    result = \"\"\n",
    "    for l in word:\n",
    "        if l in letters:\n",
    "            result += l\n",
    "        else:\n",
    "            result += \"*\"\n",
    "    return result"
   ]
  },
  {
   "cell_type": "code",
   "execution_count": 2,
   "id": "37c80d75",
   "metadata": {},
   "outputs": [],
   "source": [
    "def hide_word(word, letters):\n",
    "    return \"\".join(x if x in letters else \"*\" for x in word)"
   ]
  },
  {
   "cell_type": "code",
   "execution_count": 3,
   "id": "1152742c",
   "metadata": {},
   "outputs": [
    {
     "name": "stdout",
     "output_type": "stream",
     "text": [
      "****a***a****\n",
      "****a***a****\n"
     ]
    }
   ],
   "source": [
    "print(hide_word(\"oppvaskmaskin\", {'a'}))\n",
    "print(hide_word_alt(\"oppvaskmaskin\", {'a'}))"
   ]
  },
  {
   "cell_type": "code",
   "execution_count": 4,
   "id": "a3a91778",
   "metadata": {},
   "outputs": [],
   "source": [
    "words = [\"oppvaskmaskin\", \"kjøkken\", \"meieri\", \"ting\", \"krimskrams\"]\n",
    "selected = set()\n",
    "correct = 0"
   ]
  },
  {
   "cell_type": "code",
   "execution_count": 5,
   "id": "962a991f",
   "metadata": {
    "scrolled": true
   },
   "outputs": [
    {
     "name": "stdout",
     "output_type": "stream",
     "text": [
      "Ordet er *************\n",
      "Bokstav eller løsning (0/6): o\n",
      "Ordet er o************\n",
      "Bokstav eller løsning (1/6): p\n",
      "Ordet er opp**********\n",
      "Bokstav eller løsning (2/6): oppvaskmaskin\n",
      "Riktig!\n",
      "Vil du spille mer? nei\n",
      "Du klarte å gjette 1 ord riktig!\n"
     ]
    }
   ],
   "source": [
    "import random\n",
    "\n",
    "count = 0\n",
    "word = random.choice(words)\n",
    "\n",
    "while count < 6:\n",
    "    print(f\"Ordet er {hide_word(word, selected)}\")\n",
    "    choice = input(f\"Bokstav eller løsning ({count}/6): \")\n",
    "    selected.add(choice)\n",
    "    count += 1\n",
    "    \n",
    "    if choice == word:\n",
    "        print(\"Riktig!\")\n",
    "        selected.clear()\n",
    "        correct += 1\n",
    "        again = input(f\"Vil du spille mer? \").lower() == \"ja\"\n",
    "        \n",
    "        if again:\n",
    "            words.remove(word)\n",
    "            word = random.choice(words)\n",
    "            count = 0\n",
    "        else:\n",
    "            print(f\"Du klarte å gjette {correct} ord riktig!\")\n",
    "            break\n",
    "else:\n",
    "    print(f\"Du klarte det ikke, ordet var {word}. Du fikk {correct} ord riktig\")"
   ]
  }
 ],
 "metadata": {
  "kernelspec": {
   "display_name": "Python 3 (ipykernel)",
   "language": "python",
   "name": "python3"
  },
  "language_info": {
   "codemirror_mode": {
    "name": "ipython",
    "version": 3
   },
   "file_extension": ".py",
   "mimetype": "text/x-python",
   "name": "python",
   "nbconvert_exporter": "python",
   "pygments_lexer": "ipython3",
   "version": "3.9.9"
  }
 },
 "nbformat": 4,
 "nbformat_minor": 5
}
